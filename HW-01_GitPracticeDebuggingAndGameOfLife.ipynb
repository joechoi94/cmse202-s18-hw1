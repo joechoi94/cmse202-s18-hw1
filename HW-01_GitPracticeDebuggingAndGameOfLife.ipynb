{
 "cells": [
  {
   "cell_type": "markdown",
   "metadata": {},
   "source": [
    "### <p style=\"text-align: right;\"> &#9989; Dongryong Choi</p>"
   ]
  },
  {
   "cell_type": "markdown",
   "metadata": {},
   "source": [
    "# Homework Assignment #1 (Individual)\n",
    "## Git Practice, Debugging Practice, and Modeling Conway's Game of Life\n",
    "\n",
    "<img src=\"https://upload.wikimedia.org/wikipedia/commons/e/e5/Gospers_glider_gun.gif\", width= 300><p style=\"text-align: right;\">\n",
    "</p>"
   ]
  },
  {
   "cell_type": "markdown",
   "metadata": {},
   "source": [
    "### Goals for this homework assignment\n",
    "By the end of this assignment, you should be able to:\n",
    "* Use Git to create a repository, track changes to the files within the repository, and push those changes to a remote repository.\n",
    "* Debug code and implement exception handling in Python.\n",
    "* Work with Python data structures (e.g. lists and numpy arrays) to create a simple agent-based model.\n",
    "* Make plots of your model using <code>matplotlib</code>.\n",
    "\n",
    "### Assignment instructions\n",
    "\n",
    "Work through the following assignment, making sure to follow all of the directions and answer all of the questions.\n",
    "\n",
    "**This assignment is due roughly two weeks from now at 11:59pm on Friday, January 26th.** It should be uploaded into the \"Homework Assignments\" dropbox folder for Homework #1.  Submission instructions can be found at the end of the notebook.\n",
    "\n",
    "### Grading\n",
    "\n",
    "1. Part 1: Setting and managing a Git repository (5 points)\n",
    "2. Part 2: Debugging code and exception handling (8 points)\n",
    "3. Part 3: Conway's Game of Life (12 points)\n",
    "\n",
    "Total points: **25**"
   ]
  },
  {
   "cell_type": "markdown",
   "metadata": {},
   "source": [
    "---\n",
    "## Part 1: Setting up a git repository to track your progress on your assignment (5 points)\n",
    "\n",
    "For this assignment, you're going to create a Git repository on GitHub so that you can track your progress on the assignment and preserve the final version that you turn in. In order to do this you need to:\n",
    "\n",
    "1. Set up a new *private* repository on https://github.com/ called \"cmse202-s18-hw1\".\n",
    "2. Add your Professor and your TA as collaborators with \"Read\" access to your repository so that we can see your assignment. For Section 001, you should add users \"devinsilvia\" and \"haoyunin\". For Section 002, you should add users \"yangy5\" and \"haoyunin\".\n",
    "3. Clone the repository on to your computer.\n",
    "4. Move this notebook into that newly cloned repository.\n",
    "5. Add the notebook file to your git repository.\n",
    "6. Commit the addition to your repository.\n",
    "7. Finally, to test that everything is working, \"git push\" the file so that it ends up in your GitHub repository.\n",
    "\n",
    "If everything went as intended, the file should now show up on your GitHub account in the \"cmse202-hw1\" repository that you just created.  Periodically, you'll be asked to commit your changes to the repository and push them to the remote GitHub location. Of course, you can always commit your changes more often than that, if you wish.  It can be good to get into a habit of committing your changes any time you make a significant modification, or when you stop working on the project for a bit."
   ]
  },
  {
   "cell_type": "markdown",
   "metadata": {},
   "source": [
    "---\n",
    "\n",
    "---\n",
    "\n",
    "## Part 2: Debugging code: understanding error messages and exception handling (8 points)\n",
    "\n",
    "For the next part of this assignment, you're going to presented with a variety of code bugs and your job is to fix them. You'll also be asked to set up a bit of code that makes use of exception handling in Python."
   ]
  },
  {
   "cell_type": "markdown",
   "metadata": {},
   "source": [
    "### 2.1 Fixing errors (6 points)\n",
    "\n",
    "**Homework Task 1**: Resolve the errors in the following pieces of code and add a comment that explains what was wrong in the first place."
   ]
  },
  {
   "cell_type": "code",
   "execution_count": 2,
   "metadata": {
    "collapsed": false,
    "scrolled": true
   },
   "outputs": [
    {
     "name": "stdout",
     "output_type": "stream",
     "text": [
      "The value of i is 0\n",
      "The value of i is 1\n",
      "The value of i is 2\n",
      "The value of i is 3\n",
      "The value of i is 4\n",
      "The value of i is 5\n",
      "The value of i is 6\n",
      "The value of i is 7\n",
      "The value of i is 8\n",
      "The value of i is 9\n"
     ]
    }
   ],
   "source": [
    "for i in range(10):\n",
    "    print(\"The value of i is %i\" %i)\n",
    "\n",
    "# for loop shoud end with colon"
   ]
  },
  {
   "cell_type": "code",
   "execution_count": 5,
   "metadata": {
    "collapsed": false
   },
   "outputs": [
    {
     "name": "stdout",
     "output_type": "stream",
     "text": [
      "The value of the fraction is 5.000000\n"
     ]
    }
   ],
   "source": [
    "def compute_fraction(numerator, denominator):\n",
    "    fraction = numerator/denominator\n",
    "    print(\"The value of the fraction is %f\" %fraction)\n",
    "    \n",
    "compute_fraction(5, 1)\n",
    "\n",
    "#denominator cannot be zero"
   ]
  },
  {
   "cell_type": "code",
   "execution_count": 8,
   "metadata": {
    "collapsed": false
   },
   "outputs": [
    {
     "name": "stdout",
     "output_type": "stream",
     "text": [
      "The value of the fraction is 0.000000\n"
     ]
    }
   ],
   "source": [
    "def compute_fraction(numerator, denominator):\n",
    "    fraction = numerator/denominator\n",
    "    print(\"The value of the fraction is %f\" %fraction)\n",
    "    \n",
    "compute_fraction(1, 25)\n",
    "\n",
    "#The command cannot read \"one\", instead we need to put an actual number"
   ]
  },
  {
   "cell_type": "code",
   "execution_count": 10,
   "metadata": {
    "collapsed": false
   },
   "outputs": [
    {
     "name": "stdout",
     "output_type": "stream",
     "text": [
      "The value of the 10th element is 9\n"
     ]
    }
   ],
   "source": [
    "import numpy as np\n",
    "\n",
    "n = np.arange(20)\n",
    "print(\"The value of the 10th element is %d\" %n[9])\n",
    "\n",
    "#when you are choosing number from a vector you need to use brackets, not prentices"
   ]
  },
  {
   "cell_type": "code",
   "execution_count": 12,
   "metadata": {
    "collapsed": false
   },
   "outputs": [
    {
     "name": "stdout",
     "output_type": "stream",
     "text": [
      "1\n",
      "3\n",
      "5\n",
      "7\n",
      "9\n",
      "2\n",
      "4\n",
      "6\n",
      "8\n",
      "10\n"
     ]
    }
   ],
   "source": [
    "odd = [1, 3, 5, 7, 9]\n",
    "even = [2, 4, 6, 8, 10]\n",
    "\n",
    "for i in odd:\n",
    "    print(i)\n",
    "    \n",
    "for j in even:\n",
    "    print(j)\n",
    "    \n",
    "#There was a type-o: evven, not even"
   ]
  },
  {
   "cell_type": "code",
   "execution_count": 15,
   "metadata": {
    "collapsed": false
   },
   "outputs": [
    {
     "name": "stdout",
     "output_type": "stream",
     "text": [
      "hola\n",
      "('uno', 'dos', 'tres')\n"
     ]
    }
   ],
   "source": [
    "spanish = dict()\n",
    "spanish['hello'] = 'hola'\n",
    "spanish['yes'] = 'si'\n",
    "spanish['one'] = 'uno'\n",
    "spanish['two'] = 'dos'\n",
    "spanish['three'] = 'tres'\n",
    "spanish['red'] = 'rojo'\n",
    "spanish['black'] = 'negro'\n",
    "spanish['green'] = 'verde'\n",
    "spanish['blue'] = 'azul'\n",
    "\n",
    "print(spanish[\"hello\"])\n",
    "print(spanish[\"one\"], spanish[\"two\"], spanish[\"three\"])\n",
    "\n",
    "#There was no definition for orange"
   ]
  },
  {
   "cell_type": "markdown",
   "metadata": {},
   "source": [
    "---\n",
    "### STOP\n",
    "Take a moment to save your notebook, commit the changes to your Git repository using the commit message \"Finished Part 2.1\", and push the changes to GitHub.\n",
    "\n",
    "---"
   ]
  },
  {
   "cell_type": "markdown",
   "metadata": {},
   "source": [
    "### 2.2 Exception Handling (2 points)\n",
    "\n",
    "In the code below, you'll see an example of exception handling in Python. In the example, we have a function that creates a spanish translation dictionary using a Python dictionary object. Then, we ask the user what would they would like to know in spanish. That word is passed to the dictionary inside a \"try/except\" structure. If the word is in the dictionary, then the translation is printed, otherwise a message that the word is not found in the dictionary is printed. Try running the code! "
   ]
  },
  {
   "cell_type": "code",
   "execution_count": 16,
   "metadata": {
    "collapsed": false
   },
   "outputs": [
    {
     "name": "stdout",
     "output_type": "stream",
     "text": [
      "What word do you what to know in spanish?  six\n"
     ]
    },
    {
     "ename": "NameError",
     "evalue": "name 'six' is not defined",
     "output_type": "error",
     "traceback": [
      "\u001b[1;31m\u001b[0m",
      "\u001b[1;31mNameError\u001b[0mTraceback (most recent call last)",
      "\u001b[1;32m<ipython-input-16-b7ed84fb2345>\u001b[0m in \u001b[0;36m<module>\u001b[1;34m()\u001b[0m\n\u001b[0;32m     15\u001b[0m \u001b[0mdictionary\u001b[0m \u001b[1;33m=\u001b[0m \u001b[0mcreateDictionary\u001b[0m\u001b[1;33m(\u001b[0m\u001b[1;33m)\u001b[0m\u001b[1;33m\u001b[0m\u001b[0m\n\u001b[0;32m     16\u001b[0m \u001b[1;33m\u001b[0m\u001b[0m\n\u001b[1;32m---> 17\u001b[1;33m \u001b[0muser_input\u001b[0m \u001b[1;33m=\u001b[0m \u001b[0minput\u001b[0m\u001b[1;33m(\u001b[0m\u001b[1;34m\"What word do you what to know in spanish?  \"\u001b[0m\u001b[1;33m)\u001b[0m\u001b[1;33m\u001b[0m\u001b[0m\n\u001b[0m\u001b[0;32m     18\u001b[0m \u001b[1;32mtry\u001b[0m\u001b[1;33m:\u001b[0m\u001b[1;33m\u001b[0m\u001b[0m\n\u001b[0;32m     19\u001b[0m     \u001b[0mtranslation\u001b[0m \u001b[1;33m=\u001b[0m \u001b[0mdictionary\u001b[0m\u001b[1;33m[\u001b[0m\u001b[0muser_input\u001b[0m\u001b[1;33m]\u001b[0m\u001b[1;33m\u001b[0m\u001b[0m\n",
      "\u001b[1;32mC:\\Users\\Jiyoung Choi\\Anaconda2\\lib\\site-packages\\ipykernel\\ipkernel.pyc\u001b[0m in \u001b[0;36m<lambda>\u001b[1;34m(prompt)\u001b[0m\n\u001b[0;32m    163\u001b[0m             \u001b[0mself\u001b[0m\u001b[1;33m.\u001b[0m\u001b[0m_sys_eval_input\u001b[0m \u001b[1;33m=\u001b[0m \u001b[0mbuiltin_mod\u001b[0m\u001b[1;33m.\u001b[0m\u001b[0minput\u001b[0m\u001b[1;33m\u001b[0m\u001b[0m\n\u001b[0;32m    164\u001b[0m             \u001b[0mbuiltin_mod\u001b[0m\u001b[1;33m.\u001b[0m\u001b[0mraw_input\u001b[0m \u001b[1;33m=\u001b[0m \u001b[0mself\u001b[0m\u001b[1;33m.\u001b[0m\u001b[0mraw_input\u001b[0m\u001b[1;33m\u001b[0m\u001b[0m\n\u001b[1;32m--> 165\u001b[1;33m             \u001b[0mbuiltin_mod\u001b[0m\u001b[1;33m.\u001b[0m\u001b[0minput\u001b[0m \u001b[1;33m=\u001b[0m \u001b[1;32mlambda\u001b[0m \u001b[0mprompt\u001b[0m\u001b[1;33m=\u001b[0m\u001b[1;34m''\u001b[0m\u001b[1;33m:\u001b[0m \u001b[0meval\u001b[0m\u001b[1;33m(\u001b[0m\u001b[0mself\u001b[0m\u001b[1;33m.\u001b[0m\u001b[0mraw_input\u001b[0m\u001b[1;33m(\u001b[0m\u001b[0mprompt\u001b[0m\u001b[1;33m)\u001b[0m\u001b[1;33m)\u001b[0m\u001b[1;33m\u001b[0m\u001b[0m\n\u001b[0m\u001b[0;32m    166\u001b[0m         \u001b[0mself\u001b[0m\u001b[1;33m.\u001b[0m\u001b[0m_save_getpass\u001b[0m \u001b[1;33m=\u001b[0m \u001b[0mgetpass\u001b[0m\u001b[1;33m.\u001b[0m\u001b[0mgetpass\u001b[0m\u001b[1;33m\u001b[0m\u001b[0m\n\u001b[0;32m    167\u001b[0m         \u001b[0mgetpass\u001b[0m\u001b[1;33m.\u001b[0m\u001b[0mgetpass\u001b[0m \u001b[1;33m=\u001b[0m \u001b[0mself\u001b[0m\u001b[1;33m.\u001b[0m\u001b[0mgetpass\u001b[0m\u001b[1;33m\u001b[0m\u001b[0m\n",
      "\u001b[1;32mC:\\Users\\Jiyoung Choi\\Anaconda2\\lib\\site-packages\\ipykernel\\ipkernel.pyc\u001b[0m in \u001b[0;36m<module>\u001b[1;34m()\u001b[0m\n",
      "\u001b[1;31mNameError\u001b[0m: name 'six' is not defined"
     ]
    }
   ],
   "source": [
    "def createDictionary():\n",
    "    '''Returns a tiny Spanish dictionary'''\n",
    "    spanish = dict()\n",
    "    spanish['hello'] = 'hola'\n",
    "    spanish['yes'] = 'si'\n",
    "    spanish['one'] = 'uno'\n",
    "    spanish['two'] = 'dos'\n",
    "    spanish['three'] = 'tres'\n",
    "    spanish['red'] = 'rojo'\n",
    "    spanish['black'] = 'negro'\n",
    "    spanish['green'] = 'verde'\n",
    "    spanish['blue'] = 'azul'\n",
    "    return spanish\n",
    "\n",
    "dictionary = createDictionary()\n",
    "\n",
    "user_input = input(\"What word do you what to know in spanish?  \")\n",
    "try:\n",
    "    translation = dictionary[user_input]\n",
    "    print(\"The spanish word is: %s\" %translation)\n",
    "except KeyError:\n",
    "    print(\"Oh, sorry, that word is not in this spanish dictionary. Try another one!\")"
   ]
  },
  {
   "cell_type": "markdown",
   "metadata": {},
   "source": [
    "** Homework Task 2**: Let's revisit our \"compute_fraction\" function that came up earlier in the debugging section. As we saw with the bug, if you try to divide by zero, or you feed the function something that isn't a number, you get an error.  Your job is to add a <code>try</code> and <code>except</code> structure that will handle these two cases gracefully and let the user know what was wrong with the values they fed into the function. The function is provided below and you need to add the <code>try</code> and <code>except</code> statements to catch the errors and explain what went wrong. If you get this set up correctly, the cell below should run without dumping any of the standard Python error messages."
   ]
  },
  {
   "cell_type": "code",
   "execution_count": 20,
   "metadata": {
    "collapsed": false
   },
   "outputs": [
    {
     "name": "stdout",
     "output_type": "stream",
     "text": [
      "ZeroDivisionError\n",
      "TypeError\n",
      "The value of the fraction is 1.000000\n"
     ]
    }
   ],
   "source": [
    "def compute_fraction(numerator, denominator):\n",
    "    # Add your try and except statements to this function to handle the errors\n",
    "    try:\n",
    "        fraction = numerator/denominator\n",
    "        print(\"The value of the fraction is %f\" %fraction)\n",
    "    except ZeroDivisionError:\n",
    "        print(\"ZeroDivisionError\")\n",
    "    except TypeError:\n",
    "        print(\"TypeError\")\n",
    "        \n",
    "    \n",
    "compute_fraction(5,0)\n",
    "compute_fraction(\"five\",3)\n",
    "compute_fraction(5,3)"
   ]
  },
  {
   "cell_type": "markdown",
   "metadata": {},
   "source": [
    "---\n",
    "### STOP\n",
    "Take a moment to save your notebook, commit the changes to your Git repository using the commit message \"Finished Part 2.2\", and push the changes to GitHub.\n",
    "\n",
    "---"
   ]
  },
  {
   "cell_type": "markdown",
   "metadata": {},
   "source": [
    "---\n",
    "## Part 3: Modeling Conway's Game of Life (12 points)\n",
    "\n",
    "Some of you may heard of Conway's Game of Life and some of you may not have. Even if you haven't heard of it, it's possible that you've seen something like it before. For details regarding thie version of the \"Game of Life\", I encourage you to take a look at the Wikipedia entry [here](https://en.wikipedia.org/wiki/Conway%27s_Game_of_Life) to get a bit of background.\n",
    "\n",
    "Conway's Game of Life is essentially a very simple agent-based model.  We'll be working more with agent-based models in the future that are more complex, so this should give you a basic sense of how one might work. Basically, the Game of Life defines a set of results that define whether or not any given cell in a grid of cells lives or dies. The rules are as follows:\n",
    "\n",
    "1. Any living cell with less than two neighbors dies\n",
    "2. Any living cell with two or three neighbors lives to the next generation\n",
    "3. Any living cell with more than three neighbors dies\n",
    "4. Any dead cell with exactly three live neighbors becomes a live cell\n",
    "\n",
    "Given the simple nature of this model, we can basically just use a collection of \"1\"s and \"0\"s to represent living and dead cells respectively. We can then set up a two-dimensional grid of cells that represent out initial population. We consider the Game of Life a \"zero player\" game because once the initial conditions are set, the population evolves itself based on the rules above. In some case the entire grid might die off, or in other you might end up with persistent populations that oscillate, or even some populations that move across the board (sometimes called \"gliders\").\n",
    "\n",
    "**Homework Task 3**:\n",
    "\n",
    "Your job is to write a program that initializes a 10x10 grid of cells and then evolves the cells for a minimum of 10 iterations (you can run it for more, but don't get too carried away!). You should build your program such that it outputs the initial state and end state into the notebook, but you should also save the files to your respository using the <code>savefig()</code> function in <code>matplotlib</code>.\n",
    "\n",
    "To ensure that your code is working, start off by initializing a grid that matches Figure 1 below and then confirm that when you run your code for ten steps, it matches the end state in Figure 2. You can also use these images as a guide for how you might want to style your plots. Plots with traditional axes don't really make sense for something like this.\n",
    "\n",
    "Once you can reproduce the results, try starting with new initial configurations and see what sort of evolution you get. Include your favorite version in this notebook.\n",
    "\n",
    "Write your code in the cell below the figures!\n",
    "\n",
    "**Extra goal**: Be careful that you don't generate too many files, but if you're feeling ambitious, I encourage you to try generating an image for each iteration and then creating an animation of your evolving system -- this is *not required* for the assignment. In order to make the animation, you might have to do a bit of googling to figure out how animations work either within a notebook, or by processing the image files you create."
   ]
  },
  {
   "cell_type": "markdown",
   "metadata": {},
   "source": [
    "**Figure 1: The beginning**\n",
    "![The beginning](https://i.imgur.com/1zVx54l.png)\n",
    "\n",
    "**Figure 2: The end**\n",
    "![title](https://i.imgur.com/GuNtZWA.png)"
   ]
  },
  {
   "cell_type": "code",
   "execution_count": 57,
   "metadata": {
    "collapsed": false
   },
   "outputs": [
    {
     "name": "stdout",
     "output_type": "stream",
     "text": [
      "[[ 0.  0.  1.  0.  0.  0.  0.  0.  0.  0.]\n",
      " [ 0.  0.  0.  1.  0.  0.  0.  0.  0.  0.]\n",
      " [ 0.  1.  1.  1.  0.  0.  0.  0.  0.  0.]\n",
      " [ 0.  0.  0.  0.  0.  0.  0.  0.  0.  0.]\n",
      " [ 0.  0.  0.  0.  0.  0.  0.  0.  0.  0.]\n",
      " [ 0.  0.  0.  0.  0.  0.  0.  0.  0.  0.]\n",
      " [ 0.  0.  0.  0.  0.  0.  0.  0.  0.  0.]\n",
      " [ 0.  0.  0.  0.  0.  0.  0.  1.  1.  0.]\n",
      " [ 0.  0.  0.  0.  0.  0.  0.  1.  1.  0.]\n",
      " [ 0.  0.  0.  0.  0.  0.  0.  0.  0.  0.]]\n"
     ]
    },
    {
     "data": {
      "image/png": "[encoded data removed]",
      "text/plain": [
       "<matplotlib.figure.Figure at 0xaf85630>"
      ]
     },
     "metadata": {},
     "output_type": "display_data"
    },
    {
     "data": {
      "image/png": "[encoded data removed]",
      "text/plain": [
       "<matplotlib.figure.Figure at 0xaf850f0>"
      ]
     },
     "metadata": {},
     "output_type": "display_data"
    }
   ],
   "source": [
    "%matplotlib inline\n",
    "import numpy as np\n",
    "import matplotlib.pyplot as plt\n",
    "import matplotlib.cm as cm\n",
    "\n",
    "\n",
    "Cell_init = np.zeros((10,10))\n",
    "Cell_init[0][2] = 1\n",
    "Cell_init[1][3] = 1\n",
    "Cell_init[2][1] = 1\n",
    "Cell_init[2][2] = 1\n",
    "Cell_init[2][3] = 1\n",
    "Cell_init[7][7] = 1\n",
    "Cell_init[7][8] = 1\n",
    "Cell_init[8][7] = 1\n",
    "Cell_init[8][8] = 1\n",
    "print(Cell_init) #created initial Cell grid\n",
    "\n",
    "#count the live cells surrounding a cell\n",
    "def CountSurrounding(Cell_grid, a, b):\n",
    "    count = 0\n",
    "    #the coordinates of the surrounding cells\n",
    "    surrounding = ((a - 1, b - 1),\n",
    "                   (a - 1, b),\n",
    "                   (a - 1, b + 1),\n",
    "                   (a, b + 1),\n",
    "                   (a + 1, b + 1),\n",
    "                   (a + 1, b),\n",
    "                   (a + 1, b - 1),\n",
    "                   (a, b - 1))\n",
    "    #create function to count the live cells\n",
    "    for a,b in surrounding :\n",
    "        if not (a < 0 or b < 0 or a >= len(Cell_grid) or b >= len(Cell_grid)) and Cell_grid[a][b]:\n",
    "            count += 1\n",
    "    return count\n",
    "CountSurrounding(Cell_init, 3, 2) #test counting function\n",
    "\n",
    "#Now it's time to plot\n",
    "def plot_Cell(Cell_grid, iteration) :\n",
    "    fig, ax = plt.subplots()\n",
    "    plt.grid(True)\n",
    "    ax.imshow(Cell_grid, cmap = cm.gray_r, interpolation= 'nearest')\n",
    "    \n",
    "    \n",
    "    #creating lines and labels\n",
    "    ax.set_xticks(np.arange(float(0.5), float(9.5), float(1.0)))\n",
    "    ax.set_yticks(np.arange(float(0.5), float(9.5), float(1.0)))\n",
    "    ax.set_xticklabels([])\n",
    "    ax.set_yticklabels([])\n",
    "    Cell_init = np.zeros((10,10))\n",
    "    Cell_init[0][2] = 1\n",
    "    Cell_init[1][3] = 1\n",
    "    Cell_init[2][1] = 1\n",
    "    Cell_init[2][2] = 1\n",
    "    Cell_init[2][3] = 1\n",
    "    Cell_init[7][7] = 1\n",
    "    Cell_init[7][8] = 1\n",
    "    Cell_init[8][7] = 1\n",
    "    Cell_init[8][8] = 1\n",
    "    \n",
    "plot_Cell(Cell_init,0) #test plotting initial iteration\n",
    "\n",
    "#doing 10 iterations\n",
    "for iteration in range(0,10) :\n",
    "    Cell_grid = [a[:] for a in Cell_init]\n",
    "    \n",
    "    for a in range(0, 10): \n",
    "        for b in range(0, 10):\n",
    "            if Cell_grid[a][b] == 0 and CountSurrounding(Cell_grid, a, b) == 3:\n",
    "                Cell_init[a][b] = 1\n",
    "            elif Cell_grid[a][b] == 1 and CountSurrounding(Cell_grid, a, b) not in (2,3) :\n",
    "                Cell_init[a][b] = 0\n",
    "\n",
    "#Plot for 10 iterations\n",
    "plot_Cell(Cell_init, 10)\n"
   ]
  },
  {
   "cell_type": "markdown",
   "metadata": {},
   "source": [
    "---\n",
    "\n",
    "### STOP\n",
    "Take a moment to save your notebook, commit the changes to your Git repository using the commit message \"Finished Part 3\", and push the changes to GitHub. You should also add a few representative images to your repository to show that your code works.\n",
    "\n",
    "---"
   ]
  },
  {
   "cell_type": "markdown",
   "metadata": {},
   "source": [
    "---\n",
    "## Assignment wrap-up\n",
    "\n",
    "Please fill out the form that appears when you run the code below.  **You must completely fill this out in order to receive credit for the assignment!**"
   ]
  },
  {
   "cell_type": "code",
   "execution_count": null,
   "metadata": {
    "collapsed": true
   },
   "outputs": [],
   "source": [
    "from IPython.display import HTML\n",
    "HTML(\n",
    "\"\"\"\n",
    "<iframe \n",
    "\tsrc=\"https://goo.gl/forms/rRqbVfls0YDFTONb2\" \n",
    "\twidth=\"80%\" \n",
    "\theight=\"1200px\" \n",
    "\tframeborder=\"0\" \n",
    "\tmarginheight=\"0\" \n",
    "\tmarginwidth=\"0\">\n",
    "\tLoading...\n",
    "</iframe>\n",
    "\"\"\"\n",
    ")"
   ]
  },
  {
   "cell_type": "markdown",
   "metadata": {},
   "source": [
    "### Congratulations, you're done!\n",
    "\n",
    "Submit this assignment by uploading it to the course Desire2Learn web page.  Go to the \"Homework Assignments\" folder, find the dropbox link for Homework #1, and upload it there."
   ]
  }
 ],
 "metadata": {
  "anaconda-cloud": {},
  "kernelspec": {
   "display_name": "Python [Root]",
   "language": "python",
   "name": "Python [Root]"
  },
  "language_info": {
   "codemirror_mode": {
    "name": "ipython",
    "version": 2
   },
   "file_extension": ".py",
   "mimetype": "text/x-python",
   "name": "python",
   "nbconvert_exporter": "python",
   "pygments_lexer": "ipython2",
   "version": "2.7.12"
  }
 },
 "nbformat": 4,
 "nbformat_minor": 2
}
